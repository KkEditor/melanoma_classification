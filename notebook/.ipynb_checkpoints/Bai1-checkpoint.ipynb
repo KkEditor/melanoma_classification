{
 "cells": [
  {
   "cell_type": "code",
   "execution_count": null,
   "metadata": {},
   "outputs": [],
   "source": [
    "import numpy as np"
   ]
  },
  {
   "cell_type": "code",
   "execution_count": 1,
   "metadata": {},
   "outputs": [],
   "source": [
    "# Hàm số Rosenbrock\n",
    "def f(x, y):\n",
    "    return 100*(y - x**2)**2 + (1 - x)**2\n",
    "\n",
    "# Gradient của hàm Rosenbrock\n",
    "def f_grad(x, y):\n",
    "    dx = 400*x**3 - 400*x*y + 2*x - 2\n",
    "    dy = 200*(y - x**2)\n",
    "    return np.asarray([dx, dy])\n",
    "\n",
    "# Ma trận Hessian\n",
    "def f_hessian(x, y):\n",
    "    pass\n",
    "\n",
    "# Tính chuẩn một của vector\n",
    "def norm_one(vector):\n",
    "    return np.sum(np.abs(vector))\n",
    "\n",
    "# Tính chuẩn hai của vector\n",
    "def norm_two(vector):\n",
    "    return np.sqrt(np.sum(vector**2))"
   ]
  },
  {
   "cell_type": "code",
   "execution_count": null,
   "metadata": {},
   "outputs": [],
   "source": [
    "'''\n",
    "    Gradient descent with backtracking line search\n",
    "'''\n",
    "def backtrack(x, y, grad, alpha):\n",
    "    grad_x = grad[0]\n",
    "    grad_y = grad[1]\n",
    "    fxy = f(x, y)\n",
    "    c = 0.5\n",
    "    p = 0.5\n",
    "    it = 0\n",
    "    norm_2 = norm_two(grad)\n",
    "    while f(x - alpha*grad_x, y - alpha*grad_y) > fxy - c*alpha*norm_2**2:\n",
    "        alpha = alpha*p\n",
    "        it += 1\n",
    "    return alpha, it\n",
    "\n",
    "def gradient_descent(x, y):\n",
    "    it = 0\n",
    "    total_it = 0\n",
    "    grad = f_grad(x, y)\n",
    "    while it < 1000 and norm_one(grad) > 1e-4:\n",
    "        grad = f_grad(x, y)\n",
    "        alpha, backtrack_it = backtrack(x, y, grad, 1)\n",
    "        x = x - alpha*grad[0]\n",
    "        y = y - alpha*grad[1]\n",
    "        total_it += backtrack_it\n",
    "        it += 1\n",
    "    return x, y, total_it\n",
    "\n",
    "x_k, y_k, total_it = gradient_descent(1.2, 1.2)\n",
    "print(f'Giá trị của hàm Rosenbrock tại điểm ({x_k}, {y_k}): {f(x_k, y_k)}')\n",
    "print(f\"Total iteration: {total_it}\")\n",
    "\n",
    "x_k, y_k, total_it = gradient_descent(-1.2, 1.0)\n",
    "print(f'Giá trị của hàm Rosenbrock tại điểm ({x_k}, {y_k}): {f(x_k, y_k)}')\n",
    "print(f\"Total iteration: {total_it}\")"
   ]
  },
  {
   "cell_type": "code",
   "execution_count": null,
   "metadata": {},
   "outputs": [],
   "source": []
  }
 ],
 "metadata": {
  "kernelspec": {
   "display_name": "Python 3",
   "language": "python",
   "name": "python3"
  },
  "language_info": {
   "codemirror_mode": {
    "name": "ipython",
    "version": 3
   },
   "file_extension": ".py",
   "mimetype": "text/x-python",
   "name": "python",
   "nbconvert_exporter": "python",
   "pygments_lexer": "ipython3",
   "version": "3.7.4"
  }
 },
 "nbformat": 4,
 "nbformat_minor": 2
}
